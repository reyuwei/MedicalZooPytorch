{
 "cells": [
  {
   "cell_type": "code",
   "execution_count": null,
   "metadata": {},
   "outputs": [],
   "source": [
    "# Python libraries\n",
    "import argparse\n",
    "import os\n",
    "\n",
    "import torch\n",
    "import numpy as np\n",
    "import sys\n",
    "sys.path.append(\"../\")\n",
    "# sys.path.append(\"/p300/liyuwei/MRI_Bonenet/MedicalZooPytorch\")\n",
    "\n",
    "import lib.medloaders as medical_loaders\n",
    "import lib.medzoo as medzoo\n",
    "import lib.train as train\n",
    "# Lib files\n",
    "import lib.utils as utils\n",
    "from lib.losses3D.JoinLoss import JoinLoss\n",
    "import json\n",
    "# os.environ[\"CUDA_VISIBLE_DEVICES\"] = \"2\"\n",
    "seed = 1777777\n",
    "torch.manual_seed(seed)"
   ]
  },
  {
   "cell_type": "code",
   "execution_count": null,
   "metadata": {},
   "outputs": [],
   "source": [
    "parser = get_arguments()\n",
    "utils.reproducibility(parser, seed)\n",
    "# \"/p300/liyuwei/MRI_Bonenet/saved_models/MRIBONENET_checkpoints\"\n",
    "args = argparse.ArgumentParser()\n",
    "args = args.parse_args()\n",
    "with open(parser, 'r') as f:\n",
    "    args.__dict__ = json.load(f)\n",
    "\n",
    "print(args)\n",
    "\n",
    "os.environ[\"CUDA_VISIBLE_DEVICES\"] = args.gpu\n",
    "print(\"Number of available GPUs: {}\".format(torch.cuda.device_count()))\n",
    "\n",
    "training_generator, val_generator, full_volume, affine = \\\n",
    "                medical_loaders.generate_datasets(args, path='/p300/liyuwei/DATA_mri/Hand_MRI_capture/seg_final')\n",
    "model, optimizer = medzoo.create_model(args)\n",
    "criterion = JoinLoss(classes=args.classes, skip_index_after=args.classes)\n",
    "\n",
    "if args.cuda:\n",
    "    model = model.cuda()\n",
    "    print(\"Model transferred in GPU.....\")\n",
    "\n",
    "trainer = train.Trainer(args, model, criterion, optimizer, train_data_loader=training_generator,\n",
    "                        valid_data_loader=val_generator, lr_scheduler=None)\n",
    "print(\"START TRAINING...\")\n",
    "trainer.training()\n"
   ]
  },
  {
   "cell_type": "raw",
   "metadata": {},
   "source": []
  },
  {
   "cell_type": "raw",
   "metadata": {},
   "source": []
  }
 ],
 "metadata": {
  "kernelspec": {
   "display_name": "Python 3",
   "name": "python3"
  },
  "language_info": {
   "name": "python",
   "nbconvert_exporter": "python",
   "version": "3.8.2-final"
  },
  "orig_nbformat": 2
 },
 "nbformat": 4,
 "nbformat_minor": 2
}