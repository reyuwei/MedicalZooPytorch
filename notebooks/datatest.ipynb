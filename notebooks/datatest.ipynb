{
 "cells": [
  {
   "cell_type": "code",
   "execution_count": 4,
   "metadata": {},
   "outputs": [],
   "source": [
    "import sys\n",
    "# sys.path.append(\"/p300/liyuwei/MRI_Bonenet/MedicalZooPytorch\")\n",
    "sys.path.append(\"../\")\n",
    "import numpy as np\n",
    "import torch\n",
    "import matplotlib.pyplot as plt\n",
    "from lib.medloaders.mrihand import MRIH"
   ]
  },
  {
   "cell_type": "code",
   "execution_count": 9,
   "metadata": {},
   "outputs": [],
   "source": [
    "path = '/p300/liyuwei/DATA_mri/Hand_MRI_capture/seg_final'\n",
    "total_data = 90\n",
    "split_pkl = os.path.join(path, \"splits_final.pkl\")\n",
    "split = np.load(split_pkl, allow_pickle=True)[0]\n",
    "train_lst = split['train'][:2]\n",
    "val_lst = split['val'][:2]\n"
   ]
  },
  {
   "cell_type": "code",
   "execution_count": 10,
   "metadata": {},
   "outputs": [],
   "source": [
    "class tmp():\n",
    "    def __init__(self):\n",
    "        self.threshold = 0.1\n",
    "        self.normalization = True\n",
    "        self.augmentation = True\n"
   ]
  },
  {
   "cell_type": "code",
   "execution_count": 12,
   "metadata": {},
   "outputs": [],
   "source": [
    "args = tmp()\n",
    "train_loader = MRIHandDataset(args, 'train', dataset_path=path, crop_dim=(128, 128, 128),\n",
    "                                lst=train_lst, load=True)\n",
    "val_loader = MRIHandDataset(args, 'val', dataset_path=path, crop_dim=(30, 30, 30), \n",
    "                                lst=val_lst, load=True)"
   ]
  },
  {
   "cell_type": "code",
   "execution_count": 14,
   "metadata": {},
   "outputs": [],
   "source": [
    "index = 3\n",
    "item = train_loader.data_dict[index]\n",
    "t1 = np.load(item['input'])\n",
    "s = np.load(item['target_mask'])\n",
    "joint = item['joint']\n",
    "affine = item[\"affine\"]\n",
    "\n",
    "t1, s, affine = crop_pad(t1, s, affine, self.crop_size)\n",
    "\n",
    "# print(t1.shape)\n",
    "# print(s.shape)\n",
    "\n",
    "# print(affine)\n",
    "\n",
    "# print(np.unique(s))\n",
    "\n",
    "# middle_slice = t1[:, :, 80]\n",
    "# middle_slice_t = s[:, :, 80]\n",
    "\n",
    "# plt.figure()\n",
    "# plt.subplot(1,2,1)\n",
    "# plt.imshow(middle_slice)\n",
    "# plt.subplot(1,2,2)\n",
    "# plt.imshow(middle_slice_t)\n",
    "# plt.show()\n",
    "\n"
   ]
  },
  {
   "cell_type": "code",
   "execution_count": 11,
   "metadata": {},
   "outputs": [
    {
     "data": {
      "text/plain": [
       "array([[1., 0., 0.],\n",
       "       [0., 1., 0.],\n",
       "       [0., 0., 1.]])"
      ]
     },
     "execution_count": 11,
     "metadata": {},
     "output_type": "execute_result"
    }
   ],
   "source": [
    "np.eye(3) @ np.eye(3)\n"
   ]
  },
  {
   "cell_type": "code",
   "execution_count": null,
   "metadata": {
    "tags": []
   },
   "outputs": [],
   "source": [
    "import matplotlib.pyplot as plt\n",
    "# for i in range(len(train_loader)):\n",
    "for i in range(10):\n",
    "    input, target = train_loader.__getitem__(i)\n",
    "    print(input.shape)\n",
    "    print(target.shape)\n",
    "\n",
    "    print(torch.unique(torch.sum(target, dim=0)))\n",
    "\n",
    "    middle_slice = input[0, 80, :, :]\n",
    "    middle_slice_t = torch.sum(target[:, 80, :, :], dim=0)\n",
    "\n",
    "    plt.figure()\n",
    "    plt.subplot(1,2,1)\n",
    "    plt.imshow(middle_slice)\n",
    "    plt.subplot(1,2,2)\n",
    "    plt.imshow(middle_slice_t)\n",
    "    plt.show()\n"
   ]
  },
  {
   "cell_type": "code",
   "execution_count": null,
   "metadata": {},
   "outputs": [],
   "source": [
    "import matplotlib.pyplot as plt\n",
    "for i in range(5):\n",
    "    input, target = val_loader.__getitem__(i)\n",
    "    print(input.shape)\n",
    "    print(target.shape)\n",
    "\n",
    "    \n",
    "    middle_slice = input[0, 80, :, :]\n",
    "    middle_slice_t = torch.sum(target[:, 80, :, :], dim=0)\n",
    "\n",
    "    plt.figure()\n",
    "    plt.subplot(1,2,1)\n",
    "    plt.imshow(middle_slice)\n",
    "    plt.subplot(1,2,2)\n",
    "    plt.imshow(middle_slice_t)\n",
    "    plt.show()"
   ]
  },
  {
   "cell_type": "code",
   "execution_count": null,
   "metadata": {},
   "outputs": [],
   "source": []
  }
 ],
 "metadata": {
  "kernelspec": {
   "display_name": "Python 3.8.2 64-bit ('nr': conda)",
   "metadata": {
    "interpreter": {
     "hash": "020f429a1b3e1e978340cc761a168a2e77caf8311703e7dcd2250c912aec5eb6"
    }
   },
   "name": "python3"
  },
  "language_info": {
   "codemirror_mode": {
    "name": "ipython",
    "version": 3
   },
   "file_extension": ".py",
   "mimetype": "text/x-python",
   "name": "python",
   "nbconvert_exporter": "python",
   "pygments_lexer": "ipython3",
   "version": "3.8.2-final"
  },
  "orig_nbformat": 2
 },
 "nbformat": 4,
 "nbformat_minor": 2
}